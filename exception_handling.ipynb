{
  "nbformat": 4,
  "nbformat_minor": 0,
  "metadata": {
    "colab": {
      "provenance": [],
      "authorship_tag": "ABX9TyPG/qGHI75o7NbYQ5UqSGIZ"
    },
    "kernelspec": {
      "name": "python3",
      "display_name": "Python 3"
    },
    "language_info": {
      "name": "python"
    }
  },
  "cells": [
    {
      "cell_type": "code",
      "execution_count": null,
      "metadata": {
        "colab": {
          "base_uri": "https://localhost:8080/",
          "height": 141
        },
        "id": "wbUhHA9tV--9",
        "outputId": "491ec9df-7ee1-4da4-dcc4-a21c0c40cf54"
      },
      "outputs": [
        {
          "output_type": "error",
          "ename": "ZeroDivisionError",
          "evalue": "division by zero",
          "traceback": [
            "\u001b[0;31m---------------------------------------------------------------------------\u001b[0m",
            "\u001b[0;31mZeroDivisionError\u001b[0m                         Traceback (most recent call last)",
            "\u001b[0;32m<ipython-input-1-fad870a50e27>\u001b[0m in \u001b[0;36m<cell line: 0>\u001b[0;34m()\u001b[0m\n\u001b[0;32m----> 1\u001b[0;31m \u001b[0mprint\u001b[0m\u001b[0;34m(\u001b[0m\u001b[0;36m5\u001b[0m\u001b[0;34m/\u001b[0m\u001b[0;36m0\u001b[0m\u001b[0;34m)\u001b[0m\u001b[0;34m\u001b[0m\u001b[0;34m\u001b[0m\u001b[0m\n\u001b[0m",
            "\u001b[0;31mZeroDivisionError\u001b[0m: division by zero"
          ]
        }
      ],
      "source": [
        "print(5/0)"
      ]
    },
    {
      "cell_type": "code",
      "source": [
        "try:\n",
        "  print(5/0)\n",
        "except:\n",
        "  print(\"hey you will get an error\")"
      ],
      "metadata": {
        "colab": {
          "base_uri": "https://localhost:8080/"
        },
        "id": "VoVtaFeiWJfa",
        "outputId": "2b772f31-87a8-458d-c3df-023a271f99a5"
      },
      "execution_count": null,
      "outputs": [
        {
          "output_type": "stream",
          "name": "stdout",
          "text": [
            "hey you will get an error\n"
          ]
        }
      ]
    },
    {
      "cell_type": "code",
      "source": [
        "try:\n",
        "  pint(\"5\")\n",
        "except:\n",
        "  print(\"yes its working\")"
      ],
      "metadata": {
        "colab": {
          "base_uri": "https://localhost:8080/"
        },
        "id": "Yh-bqewKW2lr",
        "outputId": "079c0fd7-73a6-4111-ca64-a7ee94899026"
      },
      "execution_count": null,
      "outputs": [
        {
          "output_type": "stream",
          "name": "stdout",
          "text": [
            "yes its working\n"
          ]
        }
      ]
    },
    {
      "cell_type": "code",
      "source": [
        "numerator = float(input(\"Enter the numerator: \"))\n",
        "denominator = float(input(\"Enter the denominator: \"))\n",
        "if denominator == 0:\n",
        "    raise ZeroDivisionError(\"Error: Denominator cannot be zero.\")\n",
        "else:\n",
        "    quotient = numerator / denominator\n",
        "    print(\"Quotient:\", quotient)\n"
      ],
      "metadata": {
        "colab": {
          "base_uri": "https://localhost:8080/"
        },
        "id": "SYV2UMrMW-rd",
        "outputId": "a6237e47-caab-4c18-9162-4b2c4ac27c93"
      },
      "execution_count": null,
      "outputs": [
        {
          "output_type": "stream",
          "name": "stdout",
          "text": [
            "Enter the numerator: 1\n",
            "Enter the denominator: 1\n",
            "Quotient: 1.0\n"
          ]
        }
      ]
    },
    {
      "cell_type": "code",
      "source": [
        "numerator = float(input(\"Enter the numerator: \"))\n",
        "denominator = float(input(\"Enter the denominator: \"))\n",
        "if denominator == 0:\n",
        "    raise ZeroDivisionError(\"Error: Denominator cannot be zero.\")\n",
        "else:\n",
        "    quotient = numerator / denominator\n",
        "    print(\"Quotient:\", quotient)\n"
      ],
      "metadata": {
        "colab": {
          "base_uri": "https://localhost:8080/",
          "height": 228
        },
        "id": "ccdArpw4YLlb",
        "outputId": "e8daad87-0d06-4609-d19e-41f981a074c2"
      },
      "execution_count": null,
      "outputs": [
        {
          "name": "stdout",
          "output_type": "stream",
          "text": [
            "Enter the numerator: and\n"
          ]
        },
        {
          "output_type": "error",
          "ename": "ValueError",
          "evalue": "could not convert string to float: 'and'",
          "traceback": [
            "\u001b[0;31m---------------------------------------------------------------------------\u001b[0m",
            "\u001b[0;31mValueError\u001b[0m                                Traceback (most recent call last)",
            "\u001b[0;32m<ipython-input-5-28c75fb6d091>\u001b[0m in \u001b[0;36m<cell line: 0>\u001b[0;34m()\u001b[0m\n\u001b[0;32m----> 1\u001b[0;31m \u001b[0mnumerator\u001b[0m \u001b[0;34m=\u001b[0m \u001b[0mfloat\u001b[0m\u001b[0;34m(\u001b[0m\u001b[0minput\u001b[0m\u001b[0;34m(\u001b[0m\u001b[0;34m\"Enter the numerator: \"\u001b[0m\u001b[0;34m)\u001b[0m\u001b[0;34m)\u001b[0m\u001b[0;34m\u001b[0m\u001b[0;34m\u001b[0m\u001b[0m\n\u001b[0m\u001b[1;32m      2\u001b[0m \u001b[0mdenominator\u001b[0m \u001b[0;34m=\u001b[0m \u001b[0mfloat\u001b[0m\u001b[0;34m(\u001b[0m\u001b[0minput\u001b[0m\u001b[0;34m(\u001b[0m\u001b[0;34m\"Enter the denominator: \"\u001b[0m\u001b[0;34m)\u001b[0m\u001b[0;34m)\u001b[0m\u001b[0;34m\u001b[0m\u001b[0;34m\u001b[0m\u001b[0m\n\u001b[1;32m      3\u001b[0m \u001b[0;32mif\u001b[0m \u001b[0mdenominator\u001b[0m \u001b[0;34m==\u001b[0m \u001b[0;36m0\u001b[0m\u001b[0;34m:\u001b[0m\u001b[0;34m\u001b[0m\u001b[0;34m\u001b[0m\u001b[0m\n\u001b[1;32m      4\u001b[0m     \u001b[0;32mraise\u001b[0m \u001b[0mZeroDivisionError\u001b[0m\u001b[0;34m(\u001b[0m\u001b[0;34m\"Error: Denominator cannot be zero.\"\u001b[0m\u001b[0;34m)\u001b[0m\u001b[0;34m\u001b[0m\u001b[0;34m\u001b[0m\u001b[0m\n\u001b[1;32m      5\u001b[0m \u001b[0;32melse\u001b[0m\u001b[0;34m:\u001b[0m\u001b[0;34m\u001b[0m\u001b[0;34m\u001b[0m\u001b[0m\n",
            "\u001b[0;31mValueError\u001b[0m: could not convert string to float: 'and'"
          ]
        }
      ]
    },
    {
      "cell_type": "code",
      "source": [
        "1.exception handling(throwing and catching exeption)\n"
      ],
      "metadata": {
        "id": "M5UqTtHkYber"
      },
      "execution_count": null,
      "outputs": []
    },
    {
      "cell_type": "code",
      "source": [
        "#LOGIC GATES\n",
        "inputs=[0,1]\n",
        "print(\"X Y | X AND Y\")\n",
        "print(\"-------------\")\n",
        "for X in inputs:\n",
        "   for Y in inputs:\n",
        "     output = X and Y\n",
        "     print(f\"{X} {Y} | {output}\")\n",
        "\n",
        "\n"
      ],
      "metadata": {
        "colab": {
          "base_uri": "https://localhost:8080/"
        },
        "id": "R6gNQVmZZogw",
        "outputId": "a0b0684f-ad6c-4bf1-c4ce-a0e7faf9ae44"
      },
      "execution_count": null,
      "outputs": [
        {
          "output_type": "stream",
          "name": "stdout",
          "text": [
            "X Y | X AND Y\n",
            "-------------\n",
            "0 0 | 0\n",
            "0 1 | 0\n",
            "1 0 | 0\n",
            "1 1 | 1\n"
          ]
        }
      ]
    },
    {
      "cell_type": "code",
      "source": [
        "inputs=[0,1]\n",
        "print(\"X Y | X OR Y\")\n",
        "print(\"-------------\")\n",
        "for X in inputs:\n",
        "   for Y in inputs:\n",
        "     output = X or Y\n",
        "     print(f\"{X} {Y} | {output}\")\n",
        "\n",
        "\n"
      ],
      "metadata": {
        "colab": {
          "base_uri": "https://localhost:8080/"
        },
        "id": "a3vuYZfLdm6a",
        "outputId": "2572516a-ad7a-47c3-8bec-6e46f2df72ab"
      },
      "execution_count": null,
      "outputs": [
        {
          "output_type": "stream",
          "name": "stdout",
          "text": [
            "X Y | X OR Y\n",
            "-------------\n",
            "0 0 | 0\n",
            "0 1 | 1\n",
            "1 0 | 1\n",
            "1 1 | 1\n"
          ]
        }
      ]
    },
    {
      "cell_type": "code",
      "source": [
        "input=[0,1]\n",
        "for i in input:\n",
        "  print(i)\n",
        "  j=!i\n",
        "  print(j)"
      ],
      "metadata": {
        "colab": {
          "base_uri": "https://localhost:8080/"
        },
        "id": "Uhl9SM8edmoJ",
        "outputId": "27ae6b67-c958-4462-d228-43b48d4fd8b1"
      },
      "execution_count": null,
      "outputs": [
        {
          "output_type": "stream",
          "name": "stdout",
          "text": [
            "0\n",
            "['/bin/bash: line 1: i: command not found']\n",
            "1\n",
            "['/bin/bash: line 1: i: command not found']\n"
          ]
        }
      ]
    },
    {
      "cell_type": "code",
      "source": [
        "inputs=[0,1]\n",
        "print(\"X Y | X XOR Y\")\n",
        "print(\"-------------\")\n",
        "for X in inputs:\n",
        "   for Y in inputs:\n",
        "     output = x^y\n",
        "     print(f\"{X} {Y} | {output}\")\n",
        "\n",
        "\n",
        "\n"
      ],
      "metadata": {
        "colab": {
          "base_uri": "https://localhost:8080/"
        },
        "id": "MODqHtSCdmAq",
        "outputId": "dee3798a-1452-4f31-c6c5-72d2d1317cb9"
      },
      "execution_count": null,
      "outputs": [
        {
          "output_type": "stream",
          "name": "stdout",
          "text": [
            "X Y | X XOR Y\n",
            "-------------\n",
            "0 0 | 1\n",
            "0 1 | 1\n",
            "1 0 | 1\n",
            "1 1 | 1\n"
          ]
        }
      ]
    },
    {
      "cell_type": "code",
      "source": [],
      "metadata": {
        "id": "DWdHImsufOQo"
      },
      "execution_count": null,
      "outputs": []
    }
  ]
}